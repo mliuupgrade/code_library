{
 "cells": [
  {
   "cell_type": "code",
   "execution_count": 6,
   "id": "2cf46858-83fd-4043-a365-5287916b55e7",
   "metadata": {
    "execution": {
     "iopub.execute_input": "2025-06-17T22:21:26.969039Z",
     "iopub.status.busy": "2025-06-17T22:21:26.968728Z",
     "iopub.status.idle": "2025-06-17T22:21:27.265680Z",
     "shell.execute_reply": "2025-06-17T22:21:27.265165Z",
     "shell.execute_reply.started": "2025-06-17T22:21:26.969020Z"
    }
   },
   "outputs": [
    {
     "name": "stdout",
     "output_type": "stream",
     "text": [
      "   loan_app_id         id             create_date locked_desired_amount  \\\n",
      "0    305760279  219612361 2025-02-01 00:06:09.331           2000.000000   \n",
      "1    305763862  219613696 2025-02-01 00:04:59.333          10000.000000   \n",
      "2    305761447  219614301 2025-02-01 00:28:22.383          20000.000000   \n",
      "3    305764098  219613264 2025-02-01 00:17:13.712          14000.000000   \n",
      "4    305766673  219615766 2025-02-01 00:35:41.913          18000.000000   \n",
      "\n",
      "                  cd_date decision_type  credit_decision_id  fico9 status  \\\n",
      "0 2025-02-01 00:06:11.261        OFFERS           322855024    595    HIT   \n",
      "1 2025-02-01 00:05:00.993        OFFERS           322856513    619    HIT   \n",
      "2 2025-02-01 00:28:24.248        OFFERS           322859446    660    HIT   \n",
      "3 2025-02-01 00:17:15.156        OFFERS           322856144    624    HIT   \n",
      "4 2025-02-01 00:35:44.028        OFFERS           322858865    689    HIT   \n",
      "\n",
      "               income pre_loan_dti_half_joint non_mort_debt_half_joint  \\\n",
      "0  20930.000000000000          0.673196368849        1174.166666666667   \n",
      "1  60000.000000000000          0.186734666667         933.673333333333   \n",
      "2  65000.000000000000          0.418338461538        2266.000000000000   \n",
      "3  37999.000000000000          0.214742493224         680.000000000000   \n",
      "4  43680.000000000000          0.525994505495        1914.620000000000   \n",
      "\n",
      "      original_income  in07_custom   unsecured_balance       ir5_score  \\\n",
      "0  20930.000000000000            1  12472.000000000000  0.207422230000   \n",
      "1  60000.000000000000            0               0E-12  0.234159320000   \n",
      "2  65000.000000000000            0   2146.000000000000  0.078364290000   \n",
      "3  37999.000000000000            0               0E-12  0.267487170000   \n",
      "4  43680.000000000000            1  24150.000000000000  0.271258620000   \n",
      "\n",
      "        ir6_score  \n",
      "0  0.260618030000  \n",
      "1  0.166631190000  \n",
      "2  0.064439330000  \n",
      "3  0.427275500000  \n",
      "4  0.546144200000  \n"
     ]
    }
   ],
   "source": [
    "#read data from redshift in sagemaker\n",
    "import redshift_connector\n",
    "import pandas as pd\n",
    "\n",
    "dbuser='sagemaker_model_risk_app'\n",
    "\n",
    "# Establish a connection to the Redshift cluster using IAM authentication\n",
    "conn = redshift_connector.connect(\n",
    "    iam=True,\n",
    "    host='sagemaker.coamj1pxew6l.us-west-2.redshift.amazonaws.com',\n",
    "    port=5432,\n",
    "    database='sagemaker',\n",
    "    db_user=dbuser,\n",
    "    cluster_identifier='sagemaker',\n",
    "    region='us-west-2'\n",
    ")\n",
    "\n",
    "# Create a cursor object\n",
    "cursor = conn.cursor()\n",
    "\n",
    "sql_script=\"select * from dw_mrm.test\"\n",
    "#fraud_cmd = \"\"\" select distinct account_number as loan_id\n",
    "#                    from spectrum_transact.s_account_e30 e30\n",
    "#                    join loanreview.loan_in_review lir on e30.account_number = lir.id\n",
    "#                    where is_fraud='Y'\n",
    "#                    and lir.product_type = 'PERSONAL_LOAN' ;\n",
    "#                \"\"\"\n",
    "cursor.execute(sql_script)\n",
    "\n",
    "column_names = [desc[0] for desc in cursor.description]\n",
    "rows_fetchall = cursor.fetchall()\n",
    "df_fetchall = pd.DataFrame(rows_fetchall, columns=column_names)\n",
    "print(df_fetchall.head())"
   ]
  },
  {
   "cell_type": "code",
   "execution_count": null,
   "id": "889845f1-6c64-4f50-aaca-05fa32d02c9a",
   "metadata": {},
   "outputs": [],
   "source": []
  }
 ],
 "metadata": {
  "kernelspec": {
   "display_name": "Python 3 (ipykernel)",
   "language": "python",
   "name": "python3"
  },
  "language_info": {
   "codemirror_mode": {
    "name": "ipython",
    "version": 3
   },
   "file_extension": ".py",
   "mimetype": "text/x-python",
   "name": "python",
   "nbconvert_exporter": "python",
   "pygments_lexer": "ipython3",
   "version": "3.12.9"
  }
 },
 "nbformat": 4,
 "nbformat_minor": 5
}
